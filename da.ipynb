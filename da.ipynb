{
 "cells": [
  {
   "cell_type": "code",
   "execution_count": 1,
   "id": "199e6b7f",
   "metadata": {},
   "outputs": [
    {
     "name": "stdout",
     "output_type": "stream",
     "text": [
      "31\n",
      "0.0029764175415039062\n"
     ]
    }
   ],
   "source": [
    "# thuật toán\n",
    "import time\n",
    "start_time = time.time()\n",
    "def knapSack(w_max, wt, val,vol,vol_max):\n",
    "    n = len(val)\n",
    "    K = [[[0 for x in range(vol_max + 1)] for y in range(w_max + 1)] for z in range(n + 1)]\n",
    "    for i in range(n + 1):\n",
    "        for w in range(w_max + 1):\n",
    "            for v in range(vol_max +1):\n",
    "                if i == 0 or w == 0 or v == 0:\n",
    "                    K[i][w][v] = 0\n",
    "                elif wt[i-1] <= w and vol[i-1] <= v:\n",
    "                    K[i][w][v] = max(val[i-1] + K[i-1][w-wt[i-1]][v-vol[i-1]], K[i-1][w][v])\n",
    "                else:\n",
    "                    K[i][w][v] = K[i-1][w][v]\n",
    "    return K[n][w][v]\n",
    " \n",
    "\n",
    "val = [6, 10, 12, 15]\n",
    "vol = [2, 1, 3, 4]\n",
    "wt = [1, 2, 3, 5]\n",
    "W_max = 8\n",
    "vol_max = 10\n",
    "print(knapSack(W_max, wt, val,vol,vol_max))\n",
    "print((time.time() - start_time))"
   ]
  },
  {
   "cell_type": "code",
   "execution_count": 2,
   "id": "4da98122",
   "metadata": {},
   "outputs": [
    {
     "name": "stdout",
     "output_type": "stream",
     "text": [
      "pass test case  0\n",
      "pass test case  1\n",
      "pass test case  2\n",
      "pass test case  3\n",
      "pass test case  4\n",
      "pass test case  5\n",
      "pass test case  6\n",
      "pass test case  7\n",
      "pass test case  8\n",
      "pass test case  9\n",
      "pass test case  10\n",
      "pass test case  11\n",
      "pass test case  12\n",
      "pass test case  13\n",
      "pass test case  14\n"
     ]
    }
   ],
   "source": [
    "#  test case\n",
    "for i in range (0,15):\n",
    "    f = open(\"./testcase/test{}.txt\".format(i), \"r\")\n",
    "    data=[]\n",
    "    for x in f:\n",
    "        data.append(x.strip('\\n'))\n",
    "    w_max = int(data[0])\n",
    "    \n",
    "    wt = data[1].split(\" \")\n",
    "    wt = list(map(int, wt))\n",
    "    \n",
    "    val = data[2].split(\" \")\n",
    "    val = list(map(int, val))\n",
    "    \n",
    "    vol = data[3].split(\" \")\n",
    "    vol = list(map(int, vol))\n",
    "    \n",
    "    vol_max = int(data[4])\n",
    "    f = open(\"./testcase/result{}.txt\".format(i), \"r\")\n",
    "    result = 0\n",
    "    for x in f:\n",
    "        result = int(x.strip('\\n'))\n",
    "    if result == knapSack(w_max, wt, val,vol,vol_max):\n",
    "        print(\"pass test case \",i)\n",
    "    else:\n",
    "        print(\"fail test case\",i)\n",
    "\n",
    "\n",
    "\n"
   ]
  },
  {
   "cell_type": "code",
   "execution_count": null,
   "id": "32cd7168",
   "metadata": {},
   "outputs": [],
   "source": [
    "# chạy thực nghiệm\n",
    "import random\n",
    "n=10\n",
    "while (n<=800):\n",
    "    W_max_t = 100\n",
    "    while (W_max_t<= 2000):\n",
    "        vol_max_t = 100\n",
    "        while (vol_max_t<= 2000):\n",
    "            W_max = W_max_t\n",
    "            vol_max =vol_max_t\n",
    "            vol = [random.randint(25,60) for i in range(n)]\n",
    "            wt = [random.randint(25,60) for i in range(n)]\n",
    "            val = [random.randint(vol[i]+wt[i]-10,vol[i]+wt[i]+10) for i in range(n)]\n",
    "            start = time.time()\n",
    "            knapSack(W_max, wt, val,vol,vol_max)\n",
    "            print(n,W_max,vol_max, time.time()-start, sep=',')\n",
    "            vol_max_t*=random.randint(3,5)\n",
    "        W_max_t *=random.randint(3,5)\n",
    "    n*=random.randint(3,5)"
   ]
  },
  {
   "cell_type": "code",
   "execution_count": 4,
   "id": "90292237",
   "metadata": {},
   "outputs": [
    {
     "name": "stdout",
     "output_type": "stream",
     "text": [
      "Mean squared error of  nwv 154.01448971829262\n",
      "Mean squared error of  nnwwvv 1372.38591225147\n",
      "Mean squared error of  lognwv 8923.939999050874\n",
      "Mean squared error of  nnwv 3953.0874586032364\n",
      "Mean squared error of  nnwwv 2569.318006112545\n"
     ]
    }
   ],
   "source": [
    "# linear regression\n",
    "import pandas as pd\n",
    "import numpy as np\n",
    "from sklearn.linear_model import LinearRegression\n",
    "from sklearn.metrics import mean_squared_error\n",
    "df = pd.read_csv(\"running_time.csv\")\n",
    "arr = ['nwv','nnwwvv','lognwv','nnwv','nnwwv','sqrtnwv']\n",
    "for i in range (4,9) :\n",
    "    X = np.array(df.iloc[:,i]).reshape(-1, 1)\n",
    "    Y = np.array(df.iloc[:,3])\n",
    "    regressor = LinearRegression()\n",
    "    regressor.fit(X, Y)\n",
    "    Y_pred = regressor.predict(X)\n",
    "    print('Mean squared error of ',arr[i-4],mean_squared_error(Y, Y_pred))\n",
    "    "
   ]
  },
  {
   "cell_type": "code",
   "execution_count": null,
   "id": "e05a0d60",
   "metadata": {},
   "outputs": [],
   "source": []
  }
 ],
 "metadata": {
  "kernelspec": {
   "display_name": "Python 3",
   "language": "python",
   "name": "python3"
  },
  "language_info": {
   "codemirror_mode": {
    "name": "ipython",
    "version": 3
   },
   "file_extension": ".py",
   "mimetype": "text/x-python",
   "name": "python",
   "nbconvert_exporter": "python",
   "pygments_lexer": "ipython3",
   "version": "3.9.5"
  }
 },
 "nbformat": 4,
 "nbformat_minor": 5
}
